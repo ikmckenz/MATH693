{
 "cells": [
  {
   "cell_type": "markdown",
   "metadata": {},
   "source": [
    "# Lower Bound on Forward\n",
    "\n",
    "Ian McKenzie, 10130025"
   ]
  },
  {
   "cell_type": "markdown",
   "metadata": {},
   "source": [
    "If $F(t,T_1)$ and $F(t,T_2)$ are forward prices for a storable commodity, and the marginal value of storage between $T_1$ and $T_2$ is $C_{1,2}$ (for using up capacity) and $C_{2,1}$ (for creating additional capacity), and if $B(t,T_1)$ and $B(t,T_2)$ denote the time-$t$ values of \\$1 at times $T_1$ and $T_2$, use an arbitrage argument to establish a lower bound for $F(t,T_2)$ in terms of $F(t,T_1)$."
   ]
  },
  {
   "cell_type": "markdown",
   "metadata": {},
   "source": [
    "$F(t,T_2)B(t,T_2) \\geq F(t,T_1)B(t,T_1) - C_{2,1}B(t,T_2)$"
   ]
  },
  {
   "cell_type": "markdown",
   "metadata": {},
   "source": [
    "Proof:\n",
    "\n",
    "Let's consider what would happen if this was  false. \n",
    "\n",
    "Let's suppose that $\\left(F(t,T_2)B(t,T_2) + C_{2,1}B(t,T_2)\\right) < F(t,T_1)B(t,T_1)$.\n",
    "\n",
    "At time $t$, we\n",
    "* Borrow oil in storage for free. (somehow)\n",
    "* Enter a short position in $F(t,T_1)$. \n",
    "* Sell $F(t,T_1)$ worth of $B(t,T_1)$ zero-coupon bonds.\n",
    "* Enter into a long position in $F(t,T_2)$.\n",
    "* Buy $F(t,T_2)$ amount of $B(t,T_2)$ zero-coupon bonds.\n",
    "* Sell a $C_{2,1}$ amount of $B(t,T_2)$ zero-coupon bonds.\n",
    "\n",
    "\n",
    "At time $T_1$, we\n",
    "* Fullfil the obligation of the short $F(t,T_1)$ contract by selling the oil in our storage. This gives us a positive cash flow of $F(t,T_1)$.\n",
    "* Repay the $B(t,T_1)$ zero-coupon bonds, this gives us a negative cash flow of $F(t,T_1)$.\n",
    "* Rent out our new storage capacity from time $1$ to $2$, no cash flow occurs at this time. \n",
    "\n",
    "At $T_2$, we\n",
    "* Receive our storage back.\n",
    "* Recieve payment for our storage $C_{2,1}$. \n",
    "* Pay back our short $B(t,T_2)$ position to cover the $C_{2,1}$ amount.\n",
    "* Take delivery on $F(t,T_2)$ and put it in our storage.\n",
    "* Pay back our short $B(t,T_2)$ position to cover the $F(t,T_2)$ amount.\n",
    "* Return the oil in storage we borrowed.\n",
    "\n",
    "This creates a positive risk-free cash flow at time $t$ of:\n",
    "\n",
    "$\\Bigl(F(t,T_1) \\cdot B(t,T_1)\\Bigr) + \\Bigl(C_{2,1} \\cdot B(t,T_2)\\Bigr) - \\Bigl(F(t,T_2) \\cdot B(t,T_2)\\Bigr) > 0$\n",
    "\n",
    "and no cashflows at any other time, thus this is an arbitrage."
   ]
  },
  {
   "cell_type": "markdown",
   "metadata": {},
   "source": [
    "Note, if the price of using capacity $C_{1,2}$ is equal to the negative of the price for creating capacity $C_{2,1}$, then from our proof above and the one in class we have that\n",
    "\n",
    "$F(t,T_2)B(t,T_2) = F(t,T_1)B(t,T_1) + C_{1,2}B(t,T_2)$"
   ]
  }
 ],
 "metadata": {
  "kernelspec": {
   "display_name": "Python 3",
   "language": "python",
   "name": "python3"
  },
  "language_info": {
   "codemirror_mode": {
    "name": "ipython",
    "version": 3
   },
   "file_extension": ".py",
   "mimetype": "text/x-python",
   "name": "python",
   "nbconvert_exporter": "python",
   "pygments_lexer": "ipython3",
   "version": "3.5.2"
  }
 },
 "nbformat": 4,
 "nbformat_minor": 1
}
